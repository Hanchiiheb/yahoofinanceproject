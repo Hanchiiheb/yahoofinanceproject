{
 "cells": [
  {
   "cell_type": "markdown",
   "id": "e78720d0",
   "metadata": {},
   "source": [
    "### 1.create s3 bucket\n",
    "-Boto3 is the Python Software Development Kit (SDK) for Amazon Web Services (AWS), enabling you to create, update, and delete AWS resources directly from your Python code. With Boto3, you can seamlessly integrate AWS services like Amazon S3, EC2, DynamoDB, and more into your Python applications, libraries, or scripts"
   ]
  },
  {
   "cell_type": "code",
   "execution_count": 165,
   "id": "5b77aa5d",
   "metadata": {},
   "outputs": [],
   "source": [
    "import boto3\n",
    "\n",
    "s3 = boto3.resource('s3')\n"
   ]
  },
  {
   "cell_type": "code",
   "execution_count": 166,
   "id": "dea9dae3",
   "metadata": {},
   "outputs": [
    {
     "name": "stdout",
     "output_type": "stream",
     "text": [
      "S3 bucket has been created successfully\n"
     ]
    }
   ],
   "source": [
    "bucket_name ='yahoofinancestockpriceproject1'\n",
    "\n",
    "try:\n",
    "\n",
    "    s3.create_bucket (Bucket=bucket_name) \n",
    "    print('S3 bucket has been created successfully')\n",
    "\n",
    "except Exception as e:\n",
    "\n",
    "    print('S3 error: ' , e)"
   ]
  },
  {
   "cell_type": "markdown",
   "id": "b5b862bd",
   "metadata": {},
   "source": [
    "### 2.create train and validation csv"
   ]
  },
  {
   "cell_type": "code",
   "execution_count": 167,
   "id": "647a2071",
   "metadata": {},
   "outputs": [
    {
     "name": "stdout",
     "output_type": "stream",
     "text": [
      "Requirement already satisfied: yfinance in /home/ec2-user/anaconda3/envs/python3/lib/python3.10/site-packages (0.2.43)\n",
      "Requirement already satisfied: pandas>=1.3.0 in /home/ec2-user/anaconda3/envs/python3/lib/python3.10/site-packages (from yfinance) (2.2.2)\n",
      "Requirement already satisfied: numpy>=1.16.5 in /home/ec2-user/anaconda3/envs/python3/lib/python3.10/site-packages (from yfinance) (1.22.4)\n",
      "Requirement already satisfied: requests>=2.31 in /home/ec2-user/anaconda3/envs/python3/lib/python3.10/site-packages (from yfinance) (2.32.3)\n",
      "Requirement already satisfied: multitasking>=0.0.7 in /home/ec2-user/anaconda3/envs/python3/lib/python3.10/site-packages (from yfinance) (0.0.11)\n",
      "Requirement already satisfied: lxml>=4.9.1 in /home/ec2-user/anaconda3/envs/python3/lib/python3.10/site-packages (from yfinance) (5.3.0)\n",
      "Requirement already satisfied: platformdirs>=2.0.0 in /home/ec2-user/anaconda3/envs/python3/lib/python3.10/site-packages (from yfinance) (4.2.2)\n",
      "Requirement already satisfied: pytz>=2022.5 in /home/ec2-user/anaconda3/envs/python3/lib/python3.10/site-packages (from yfinance) (2024.1)\n",
      "Requirement already satisfied: frozendict>=2.3.4 in /home/ec2-user/anaconda3/envs/python3/lib/python3.10/site-packages (from yfinance) (2.4.4)\n",
      "Requirement already satisfied: peewee>=3.16.2 in /home/ec2-user/anaconda3/envs/python3/lib/python3.10/site-packages (from yfinance) (3.17.6)\n",
      "Requirement already satisfied: beautifulsoup4>=4.11.1 in /home/ec2-user/anaconda3/envs/python3/lib/python3.10/site-packages (from yfinance) (4.12.3)\n",
      "Requirement already satisfied: html5lib>=1.1 in /home/ec2-user/anaconda3/envs/python3/lib/python3.10/site-packages (from yfinance) (1.1)\n",
      "Requirement already satisfied: soupsieve>1.2 in /home/ec2-user/anaconda3/envs/python3/lib/python3.10/site-packages (from beautifulsoup4>=4.11.1->yfinance) (2.5)\n",
      "Requirement already satisfied: six>=1.9 in /home/ec2-user/anaconda3/envs/python3/lib/python3.10/site-packages (from html5lib>=1.1->yfinance) (1.16.0)\n",
      "Requirement already satisfied: webencodings in /home/ec2-user/anaconda3/envs/python3/lib/python3.10/site-packages (from html5lib>=1.1->yfinance) (0.5.1)\n",
      "Requirement already satisfied: python-dateutil>=2.8.2 in /home/ec2-user/anaconda3/envs/python3/lib/python3.10/site-packages (from pandas>=1.3.0->yfinance) (2.9.0)\n",
      "Requirement already satisfied: tzdata>=2022.7 in /home/ec2-user/anaconda3/envs/python3/lib/python3.10/site-packages (from pandas>=1.3.0->yfinance) (2024.1)\n",
      "Requirement already satisfied: charset-normalizer<4,>=2 in /home/ec2-user/anaconda3/envs/python3/lib/python3.10/site-packages (from requests>=2.31->yfinance) (3.3.2)\n",
      "Requirement already satisfied: idna<4,>=2.5 in /home/ec2-user/anaconda3/envs/python3/lib/python3.10/site-packages (from requests>=2.31->yfinance) (3.7)\n",
      "Requirement already satisfied: urllib3<3,>=1.21.1 in /home/ec2-user/anaconda3/envs/python3/lib/python3.10/site-packages (from requests>=2.31->yfinance) (2.2.2)\n",
      "Requirement already satisfied: certifi>=2017.4.17 in /home/ec2-user/anaconda3/envs/python3/lib/python3.10/site-packages (from requests>=2.31->yfinance) (2024.7.4)\n"
     ]
    },
    {
     "name": "stderr",
     "output_type": "stream",
     "text": [
      "[*********************100%***********************]  1 of 1 completed\n"
     ]
    },
    {
     "data": {
      "text/html": [
       "<div>\n",
       "<style scoped>\n",
       "    .dataframe tbody tr th:only-of-type {\n",
       "        vertical-align: middle;\n",
       "    }\n",
       "\n",
       "    .dataframe tbody tr th {\n",
       "        vertical-align: top;\n",
       "    }\n",
       "\n",
       "    .dataframe thead th {\n",
       "        text-align: right;\n",
       "    }\n",
       "</style>\n",
       "<table border=\"1\" class=\"dataframe\">\n",
       "  <thead>\n",
       "    <tr style=\"text-align: right;\">\n",
       "      <th></th>\n",
       "      <th>Date</th>\n",
       "      <th>Open</th>\n",
       "      <th>High</th>\n",
       "      <th>Low</th>\n",
       "      <th>Close</th>\n",
       "      <th>Adj Close</th>\n",
       "      <th>Volume</th>\n",
       "    </tr>\n",
       "  </thead>\n",
       "  <tbody>\n",
       "    <tr>\n",
       "      <th>0</th>\n",
       "      <td>2019-01-02</td>\n",
       "      <td>38.722500</td>\n",
       "      <td>39.712502</td>\n",
       "      <td>38.557499</td>\n",
       "      <td>39.480000</td>\n",
       "      <td>37.750084</td>\n",
       "      <td>148158800</td>\n",
       "    </tr>\n",
       "    <tr>\n",
       "      <th>1</th>\n",
       "      <td>2019-01-03</td>\n",
       "      <td>35.994999</td>\n",
       "      <td>36.430000</td>\n",
       "      <td>35.500000</td>\n",
       "      <td>35.547501</td>\n",
       "      <td>33.989902</td>\n",
       "      <td>365248800</td>\n",
       "    </tr>\n",
       "    <tr>\n",
       "      <th>2</th>\n",
       "      <td>2019-01-04</td>\n",
       "      <td>36.132500</td>\n",
       "      <td>37.137501</td>\n",
       "      <td>35.950001</td>\n",
       "      <td>37.064999</td>\n",
       "      <td>35.440891</td>\n",
       "      <td>234428400</td>\n",
       "    </tr>\n",
       "    <tr>\n",
       "      <th>3</th>\n",
       "      <td>2019-01-07</td>\n",
       "      <td>37.174999</td>\n",
       "      <td>37.207500</td>\n",
       "      <td>36.474998</td>\n",
       "      <td>36.982498</td>\n",
       "      <td>35.362015</td>\n",
       "      <td>219111200</td>\n",
       "    </tr>\n",
       "    <tr>\n",
       "      <th>4</th>\n",
       "      <td>2019-01-08</td>\n",
       "      <td>37.389999</td>\n",
       "      <td>37.955002</td>\n",
       "      <td>37.130001</td>\n",
       "      <td>37.687500</td>\n",
       "      <td>36.036125</td>\n",
       "      <td>164101200</td>\n",
       "    </tr>\n",
       "    <tr>\n",
       "      <th>...</th>\n",
       "      <td>...</td>\n",
       "      <td>...</td>\n",
       "      <td>...</td>\n",
       "      <td>...</td>\n",
       "      <td>...</td>\n",
       "      <td>...</td>\n",
       "      <td>...</td>\n",
       "    </tr>\n",
       "    <tr>\n",
       "      <th>500</th>\n",
       "      <td>2020-12-24</td>\n",
       "      <td>131.320007</td>\n",
       "      <td>133.460007</td>\n",
       "      <td>131.100006</td>\n",
       "      <td>131.970001</td>\n",
       "      <td>129.189499</td>\n",
       "      <td>54930100</td>\n",
       "    </tr>\n",
       "    <tr>\n",
       "      <th>501</th>\n",
       "      <td>2020-12-28</td>\n",
       "      <td>133.990005</td>\n",
       "      <td>137.339996</td>\n",
       "      <td>133.509995</td>\n",
       "      <td>136.690002</td>\n",
       "      <td>133.810074</td>\n",
       "      <td>124486200</td>\n",
       "    </tr>\n",
       "    <tr>\n",
       "      <th>502</th>\n",
       "      <td>2020-12-29</td>\n",
       "      <td>138.050003</td>\n",
       "      <td>138.789993</td>\n",
       "      <td>134.339996</td>\n",
       "      <td>134.869995</td>\n",
       "      <td>132.028397</td>\n",
       "      <td>121047300</td>\n",
       "    </tr>\n",
       "    <tr>\n",
       "      <th>503</th>\n",
       "      <td>2020-12-30</td>\n",
       "      <td>135.580002</td>\n",
       "      <td>135.990005</td>\n",
       "      <td>133.399994</td>\n",
       "      <td>133.720001</td>\n",
       "      <td>130.902634</td>\n",
       "      <td>96452100</td>\n",
       "    </tr>\n",
       "    <tr>\n",
       "      <th>504</th>\n",
       "      <td>2020-12-31</td>\n",
       "      <td>134.080002</td>\n",
       "      <td>134.740005</td>\n",
       "      <td>131.720001</td>\n",
       "      <td>132.690002</td>\n",
       "      <td>129.894348</td>\n",
       "      <td>99116600</td>\n",
       "    </tr>\n",
       "  </tbody>\n",
       "</table>\n",
       "<p>505 rows × 7 columns</p>\n",
       "</div>"
      ],
      "text/plain": [
       "          Date        Open        High         Low       Close   Adj Close  \\\n",
       "0   2019-01-02   38.722500   39.712502   38.557499   39.480000   37.750084   \n",
       "1   2019-01-03   35.994999   36.430000   35.500000   35.547501   33.989902   \n",
       "2   2019-01-04   36.132500   37.137501   35.950001   37.064999   35.440891   \n",
       "3   2019-01-07   37.174999   37.207500   36.474998   36.982498   35.362015   \n",
       "4   2019-01-08   37.389999   37.955002   37.130001   37.687500   36.036125   \n",
       "..         ...         ...         ...         ...         ...         ...   \n",
       "500 2020-12-24  131.320007  133.460007  131.100006  131.970001  129.189499   \n",
       "501 2020-12-28  133.990005  137.339996  133.509995  136.690002  133.810074   \n",
       "502 2020-12-29  138.050003  138.789993  134.339996  134.869995  132.028397   \n",
       "503 2020-12-30  135.580002  135.990005  133.399994  133.720001  130.902634   \n",
       "504 2020-12-31  134.080002  134.740005  131.720001  132.690002  129.894348   \n",
       "\n",
       "        Volume  \n",
       "0    148158800  \n",
       "1    365248800  \n",
       "2    234428400  \n",
       "3    219111200  \n",
       "4    164101200  \n",
       "..         ...  \n",
       "500   54930100  \n",
       "501  124486200  \n",
       "502  121047300  \n",
       "503   96452100  \n",
       "504   99116600  \n",
       "\n",
       "[505 rows x 7 columns]"
      ]
     },
     "execution_count": 167,
     "metadata": {},
     "output_type": "execute_result"
    }
   ],
   "source": [
    "!pip install yfinance\n",
    "\n",
    "import pandas as pd \n",
    "from datetime import datetime\n",
    "import yfinance as yf\n",
    "\n",
    "#initialize porameters \n",
    "start_date = datetime(2019, 1, 1) \n",
    "end_date = datetime(2021, 1, 1)\n",
    "\n",
    "#get the deta\n",
    "\n",
    "df_data =yf.download(\"AAPL\", start =start_date, end =end_date)\n",
    "\n",
    "df_data.reset_index(inplace=True)\n",
    "\n",
    "df_data\n"
   ]
  },
  {
   "cell_type": "markdown",
   "id": "e9a9dd41",
   "metadata": {},
   "source": [
    "### Extract, Load & Transform"
   ]
  },
  {
   "cell_type": "code",
   "execution_count": 168,
   "id": "92926ef4",
   "metadata": {},
   "outputs": [],
   "source": [
    "df_data.drop(axis=1, columns=['Adj Close'], inplace=True) \n",
    "df_data.drop(axis=1, columns=['Date'], inplace=True)"
   ]
  },
  {
   "cell_type": "code",
   "execution_count": 169,
   "id": "dedf7747",
   "metadata": {},
   "outputs": [
    {
     "data": {
      "text/html": [
       "<div>\n",
       "<style scoped>\n",
       "    .dataframe tbody tr th:only-of-type {\n",
       "        vertical-align: middle;\n",
       "    }\n",
       "\n",
       "    .dataframe tbody tr th {\n",
       "        vertical-align: top;\n",
       "    }\n",
       "\n",
       "    .dataframe thead th {\n",
       "        text-align: right;\n",
       "    }\n",
       "</style>\n",
       "<table border=\"1\" class=\"dataframe\">\n",
       "  <thead>\n",
       "    <tr style=\"text-align: right;\">\n",
       "      <th></th>\n",
       "      <th>Open</th>\n",
       "      <th>High</th>\n",
       "      <th>Low</th>\n",
       "      <th>Close</th>\n",
       "      <th>Volume</th>\n",
       "    </tr>\n",
       "  </thead>\n",
       "  <tbody>\n",
       "    <tr>\n",
       "      <th>0</th>\n",
       "      <td>38.722500</td>\n",
       "      <td>39.712502</td>\n",
       "      <td>38.557499</td>\n",
       "      <td>39.480000</td>\n",
       "      <td>148158800</td>\n",
       "    </tr>\n",
       "    <tr>\n",
       "      <th>1</th>\n",
       "      <td>35.994999</td>\n",
       "      <td>36.430000</td>\n",
       "      <td>35.500000</td>\n",
       "      <td>35.547501</td>\n",
       "      <td>365248800</td>\n",
       "    </tr>\n",
       "    <tr>\n",
       "      <th>2</th>\n",
       "      <td>36.132500</td>\n",
       "      <td>37.137501</td>\n",
       "      <td>35.950001</td>\n",
       "      <td>37.064999</td>\n",
       "      <td>234428400</td>\n",
       "    </tr>\n",
       "    <tr>\n",
       "      <th>3</th>\n",
       "      <td>37.174999</td>\n",
       "      <td>37.207500</td>\n",
       "      <td>36.474998</td>\n",
       "      <td>36.982498</td>\n",
       "      <td>219111200</td>\n",
       "    </tr>\n",
       "    <tr>\n",
       "      <th>4</th>\n",
       "      <td>37.389999</td>\n",
       "      <td>37.955002</td>\n",
       "      <td>37.130001</td>\n",
       "      <td>37.687500</td>\n",
       "      <td>164101200</td>\n",
       "    </tr>\n",
       "    <tr>\n",
       "      <th>...</th>\n",
       "      <td>...</td>\n",
       "      <td>...</td>\n",
       "      <td>...</td>\n",
       "      <td>...</td>\n",
       "      <td>...</td>\n",
       "    </tr>\n",
       "    <tr>\n",
       "      <th>499</th>\n",
       "      <td>132.160004</td>\n",
       "      <td>132.429993</td>\n",
       "      <td>130.779999</td>\n",
       "      <td>130.960007</td>\n",
       "      <td>88223700</td>\n",
       "    </tr>\n",
       "    <tr>\n",
       "      <th>500</th>\n",
       "      <td>131.320007</td>\n",
       "      <td>133.460007</td>\n",
       "      <td>131.100006</td>\n",
       "      <td>131.970001</td>\n",
       "      <td>54930100</td>\n",
       "    </tr>\n",
       "    <tr>\n",
       "      <th>501</th>\n",
       "      <td>133.990005</td>\n",
       "      <td>137.339996</td>\n",
       "      <td>133.509995</td>\n",
       "      <td>136.690002</td>\n",
       "      <td>124486200</td>\n",
       "    </tr>\n",
       "    <tr>\n",
       "      <th>502</th>\n",
       "      <td>138.050003</td>\n",
       "      <td>138.789993</td>\n",
       "      <td>134.339996</td>\n",
       "      <td>134.869995</td>\n",
       "      <td>121047300</td>\n",
       "    </tr>\n",
       "    <tr>\n",
       "      <th>503</th>\n",
       "      <td>135.580002</td>\n",
       "      <td>135.990005</td>\n",
       "      <td>133.399994</td>\n",
       "      <td>133.720001</td>\n",
       "      <td>96452100</td>\n",
       "    </tr>\n",
       "  </tbody>\n",
       "</table>\n",
       "<p>504 rows × 5 columns</p>\n",
       "</div>"
      ],
      "text/plain": [
       "           Open        High         Low       Close     Volume\n",
       "0     38.722500   39.712502   38.557499   39.480000  148158800\n",
       "1     35.994999   36.430000   35.500000   35.547501  365248800\n",
       "2     36.132500   37.137501   35.950001   37.064999  234428400\n",
       "3     37.174999   37.207500   36.474998   36.982498  219111200\n",
       "4     37.389999   37.955002   37.130001   37.687500  164101200\n",
       "..          ...         ...         ...         ...        ...\n",
       "499  132.160004  132.429993  130.779999  130.960007   88223700\n",
       "500  131.320007  133.460007  131.100006  131.970001   54930100\n",
       "501  133.990005  137.339996  133.509995  136.690002  124486200\n",
       "502  138.050003  138.789993  134.339996  134.869995  121047300\n",
       "503  135.580002  135.990005  133.399994  133.720001   96452100\n",
       "\n",
       "[504 rows x 5 columns]"
      ]
     },
     "execution_count": 169,
     "metadata": {},
     "output_type": "execute_result"
    }
   ],
   "source": [
    "df_data_features = df_data.iloc[:-1,:]\n",
    "\n",
    "df_data_features"
   ]
  },
  {
   "cell_type": "code",
   "execution_count": 170,
   "id": "85bb9066",
   "metadata": {},
   "outputs": [
    {
     "data": {
      "text/plain": [
       "1       35.994999\n",
       "2       36.132500\n",
       "3       37.174999\n",
       "4       37.389999\n",
       "5       37.822498\n",
       "          ...    \n",
       "500    131.320007\n",
       "501    133.990005\n",
       "502    138.050003\n",
       "503    135.580002\n",
       "504    134.080002\n",
       "Name: Targets, Length: 504, dtype: float64"
      ]
     },
     "execution_count": 170,
     "metadata": {},
     "output_type": "execute_result"
    }
   ],
   "source": [
    "df_data_targets = df_data.iloc[1:, 0].rename(\"Targets\")\n",
    "df_data_targets"
   ]
  },
  {
   "cell_type": "code",
   "execution_count": 171,
   "id": "93a77bef",
   "metadata": {},
   "outputs": [
    {
     "name": "stderr",
     "output_type": "stream",
     "text": [
      "/tmp/ipykernel_9423/2589993178.py:1: SettingWithCopyWarning: \n",
      "A value is trying to be set on a copy of a slice from a DataFrame.\n",
      "Try using .loc[row_indexer,col_indexer] = value instead\n",
      "\n",
      "See the caveats in the documentation: https://pandas.pydata.org/pandas-docs/stable/user_guide/indexing.html#returning-a-view-versus-a-copy\n",
      "  df_data_features ['Target'] = list(df_data_targets)\n"
     ]
    },
    {
     "data": {
      "text/html": [
       "<div>\n",
       "<style scoped>\n",
       "    .dataframe tbody tr th:only-of-type {\n",
       "        vertical-align: middle;\n",
       "    }\n",
       "\n",
       "    .dataframe tbody tr th {\n",
       "        vertical-align: top;\n",
       "    }\n",
       "\n",
       "    .dataframe thead th {\n",
       "        text-align: right;\n",
       "    }\n",
       "</style>\n",
       "<table border=\"1\" class=\"dataframe\">\n",
       "  <thead>\n",
       "    <tr style=\"text-align: right;\">\n",
       "      <th></th>\n",
       "      <th>Target</th>\n",
       "      <th>Open</th>\n",
       "      <th>High</th>\n",
       "      <th>Low</th>\n",
       "      <th>Close</th>\n",
       "      <th>Volume</th>\n",
       "    </tr>\n",
       "  </thead>\n",
       "  <tbody>\n",
       "    <tr>\n",
       "      <th>0</th>\n",
       "      <td>35.994999</td>\n",
       "      <td>38.722500</td>\n",
       "      <td>39.712502</td>\n",
       "      <td>38.557499</td>\n",
       "      <td>39.480000</td>\n",
       "      <td>148158800</td>\n",
       "    </tr>\n",
       "    <tr>\n",
       "      <th>1</th>\n",
       "      <td>36.132500</td>\n",
       "      <td>35.994999</td>\n",
       "      <td>36.430000</td>\n",
       "      <td>35.500000</td>\n",
       "      <td>35.547501</td>\n",
       "      <td>365248800</td>\n",
       "    </tr>\n",
       "    <tr>\n",
       "      <th>2</th>\n",
       "      <td>37.174999</td>\n",
       "      <td>36.132500</td>\n",
       "      <td>37.137501</td>\n",
       "      <td>35.950001</td>\n",
       "      <td>37.064999</td>\n",
       "      <td>234428400</td>\n",
       "    </tr>\n",
       "    <tr>\n",
       "      <th>3</th>\n",
       "      <td>37.389999</td>\n",
       "      <td>37.174999</td>\n",
       "      <td>37.207500</td>\n",
       "      <td>36.474998</td>\n",
       "      <td>36.982498</td>\n",
       "      <td>219111200</td>\n",
       "    </tr>\n",
       "    <tr>\n",
       "      <th>4</th>\n",
       "      <td>37.822498</td>\n",
       "      <td>37.389999</td>\n",
       "      <td>37.955002</td>\n",
       "      <td>37.130001</td>\n",
       "      <td>37.687500</td>\n",
       "      <td>164101200</td>\n",
       "    </tr>\n",
       "    <tr>\n",
       "      <th>...</th>\n",
       "      <td>...</td>\n",
       "      <td>...</td>\n",
       "      <td>...</td>\n",
       "      <td>...</td>\n",
       "      <td>...</td>\n",
       "      <td>...</td>\n",
       "    </tr>\n",
       "    <tr>\n",
       "      <th>499</th>\n",
       "      <td>131.320007</td>\n",
       "      <td>132.160004</td>\n",
       "      <td>132.429993</td>\n",
       "      <td>130.779999</td>\n",
       "      <td>130.960007</td>\n",
       "      <td>88223700</td>\n",
       "    </tr>\n",
       "    <tr>\n",
       "      <th>500</th>\n",
       "      <td>133.990005</td>\n",
       "      <td>131.320007</td>\n",
       "      <td>133.460007</td>\n",
       "      <td>131.100006</td>\n",
       "      <td>131.970001</td>\n",
       "      <td>54930100</td>\n",
       "    </tr>\n",
       "    <tr>\n",
       "      <th>501</th>\n",
       "      <td>138.050003</td>\n",
       "      <td>133.990005</td>\n",
       "      <td>137.339996</td>\n",
       "      <td>133.509995</td>\n",
       "      <td>136.690002</td>\n",
       "      <td>124486200</td>\n",
       "    </tr>\n",
       "    <tr>\n",
       "      <th>502</th>\n",
       "      <td>135.580002</td>\n",
       "      <td>138.050003</td>\n",
       "      <td>138.789993</td>\n",
       "      <td>134.339996</td>\n",
       "      <td>134.869995</td>\n",
       "      <td>121047300</td>\n",
       "    </tr>\n",
       "    <tr>\n",
       "      <th>503</th>\n",
       "      <td>134.080002</td>\n",
       "      <td>135.580002</td>\n",
       "      <td>135.990005</td>\n",
       "      <td>133.399994</td>\n",
       "      <td>133.720001</td>\n",
       "      <td>96452100</td>\n",
       "    </tr>\n",
       "  </tbody>\n",
       "</table>\n",
       "<p>504 rows × 6 columns</p>\n",
       "</div>"
      ],
      "text/plain": [
       "         Target        Open        High         Low       Close     Volume\n",
       "0     35.994999   38.722500   39.712502   38.557499   39.480000  148158800\n",
       "1     36.132500   35.994999   36.430000   35.500000   35.547501  365248800\n",
       "2     37.174999   36.132500   37.137501   35.950001   37.064999  234428400\n",
       "3     37.389999   37.174999   37.207500   36.474998   36.982498  219111200\n",
       "4     37.822498   37.389999   37.955002   37.130001   37.687500  164101200\n",
       "..          ...         ...         ...         ...         ...        ...\n",
       "499  131.320007  132.160004  132.429993  130.779999  130.960007   88223700\n",
       "500  133.990005  131.320007  133.460007  131.100006  131.970001   54930100\n",
       "501  138.050003  133.990005  137.339996  133.509995  136.690002  124486200\n",
       "502  135.580002  138.050003  138.789993  134.339996  134.869995  121047300\n",
       "503  134.080002  135.580002  135.990005  133.399994  133.720001   96452100\n",
       "\n",
       "[504 rows x 6 columns]"
      ]
     },
     "execution_count": 171,
     "metadata": {},
     "output_type": "execute_result"
    }
   ],
   "source": [
    "df_data_features ['Target'] = list(df_data_targets)\n",
    "\n",
    "first_column = df_data_features.pop('Target')\n",
    "\n",
    "df_data_features.insert(0, 'Target', first_column)\n",
    "\n",
    "df_data_final = df_data_features\n",
    "df_data_final"
   ]
  },
  {
   "cell_type": "markdown",
   "id": "3b7345ae",
   "metadata": {},
   "source": [
    "### Train Test Split"
   ]
  },
  {
   "cell_type": "code",
   "execution_count": 172,
   "id": "28f5dac8",
   "metadata": {},
   "outputs": [
    {
     "data": {
      "text/html": [
       "<div>\n",
       "<style scoped>\n",
       "    .dataframe tbody tr th:only-of-type {\n",
       "        vertical-align: middle;\n",
       "    }\n",
       "\n",
       "    .dataframe tbody tr th {\n",
       "        vertical-align: top;\n",
       "    }\n",
       "\n",
       "    .dataframe thead th {\n",
       "        text-align: right;\n",
       "    }\n",
       "</style>\n",
       "<table border=\"1\" class=\"dataframe\">\n",
       "  <thead>\n",
       "    <tr style=\"text-align: right;\">\n",
       "      <th></th>\n",
       "      <th>Target</th>\n",
       "      <th>Open</th>\n",
       "      <th>High</th>\n",
       "      <th>Low</th>\n",
       "      <th>Close</th>\n",
       "      <th>Volume</th>\n",
       "    </tr>\n",
       "  </thead>\n",
       "  <tbody>\n",
       "    <tr>\n",
       "      <th>429</th>\n",
       "      <td>115.230003</td>\n",
       "      <td>118.330002</td>\n",
       "      <td>118.830002</td>\n",
       "      <td>113.610001</td>\n",
       "      <td>115.540001</td>\n",
       "      <td>184642000</td>\n",
       "    </tr>\n",
       "    <tr>\n",
       "      <th>282</th>\n",
       "      <td>78.839996</td>\n",
       "      <td>81.184998</td>\n",
       "      <td>81.495003</td>\n",
       "      <td>80.712502</td>\n",
       "      <td>81.237503</td>\n",
       "      <td>80113600</td>\n",
       "    </tr>\n",
       "    <tr>\n",
       "      <th>383</th>\n",
       "      <td>97.264999</td>\n",
       "      <td>95.334999</td>\n",
       "      <td>95.980003</td>\n",
       "      <td>94.705002</td>\n",
       "      <td>95.919998</td>\n",
       "      <td>90257200</td>\n",
       "    </tr>\n",
       "    <tr>\n",
       "      <th>477</th>\n",
       "      <td>117.180000</td>\n",
       "      <td>118.639999</td>\n",
       "      <td>118.769997</td>\n",
       "      <td>117.290001</td>\n",
       "      <td>117.339996</td>\n",
       "      <td>73604300</td>\n",
       "    </tr>\n",
       "    <tr>\n",
       "      <th>428</th>\n",
       "      <td>118.330002</td>\n",
       "      <td>114.720001</td>\n",
       "      <td>115.930000</td>\n",
       "      <td>112.800003</td>\n",
       "      <td>115.360001</td>\n",
       "      <td>140150100</td>\n",
       "    </tr>\n",
       "    <tr>\n",
       "      <th>...</th>\n",
       "      <td>...</td>\n",
       "      <td>...</td>\n",
       "      <td>...</td>\n",
       "      <td>...</td>\n",
       "      <td>...</td>\n",
       "      <td>...</td>\n",
       "    </tr>\n",
       "    <tr>\n",
       "      <th>98</th>\n",
       "      <td>45.049999</td>\n",
       "      <td>44.950001</td>\n",
       "      <td>45.134998</td>\n",
       "      <td>44.452499</td>\n",
       "      <td>44.915001</td>\n",
       "      <td>146118800</td>\n",
       "    </tr>\n",
       "    <tr>\n",
       "      <th>476</th>\n",
       "      <td>118.639999</td>\n",
       "      <td>117.589996</td>\n",
       "      <td>119.059998</td>\n",
       "      <td>116.809998</td>\n",
       "      <td>118.639999</td>\n",
       "      <td>74113000</td>\n",
       "    </tr>\n",
       "    <tr>\n",
       "      <th>322</th>\n",
       "      <td>70.599998</td>\n",
       "      <td>70.000000</td>\n",
       "      <td>72.062500</td>\n",
       "      <td>69.512497</td>\n",
       "      <td>71.762497</td>\n",
       "      <td>194994800</td>\n",
       "    </tr>\n",
       "    <tr>\n",
       "      <th>382</th>\n",
       "      <td>95.334999</td>\n",
       "      <td>96.262497</td>\n",
       "      <td>96.317497</td>\n",
       "      <td>94.672501</td>\n",
       "      <td>95.752502</td>\n",
       "      <td>125642800</td>\n",
       "    </tr>\n",
       "    <tr>\n",
       "      <th>365</th>\n",
       "      <td>87.864998</td>\n",
       "      <td>83.312500</td>\n",
       "      <td>86.419998</td>\n",
       "      <td>83.144997</td>\n",
       "      <td>85.747498</td>\n",
       "      <td>138808800</td>\n",
       "    </tr>\n",
       "  </tbody>\n",
       "</table>\n",
       "<p>504 rows × 6 columns</p>\n",
       "</div>"
      ],
      "text/plain": [
       "         Target        Open        High         Low       Close     Volume\n",
       "429  115.230003  118.330002  118.830002  113.610001  115.540001  184642000\n",
       "282   78.839996   81.184998   81.495003   80.712502   81.237503   80113600\n",
       "383   97.264999   95.334999   95.980003   94.705002   95.919998   90257200\n",
       "477  117.180000  118.639999  118.769997  117.290001  117.339996   73604300\n",
       "428  118.330002  114.720001  115.930000  112.800003  115.360001  140150100\n",
       "..          ...         ...         ...         ...         ...        ...\n",
       "98    45.049999   44.950001   45.134998   44.452499   44.915001  146118800\n",
       "476  118.639999  117.589996  119.059998  116.809998  118.639999   74113000\n",
       "322   70.599998   70.000000   72.062500   69.512497   71.762497  194994800\n",
       "382   95.334999   96.262497   96.317497   94.672501   95.752502  125642800\n",
       "365   87.864998   83.312500   86.419998   83.144997   85.747498  138808800\n",
       "\n",
       "[504 rows x 6 columns]"
      ]
     },
     "execution_count": 172,
     "metadata": {},
     "output_type": "execute_result"
    }
   ],
   "source": [
    "import numpy as np\n",
    "df_randomized = df_data_final.sample (frac=1, random_state=123)\n",
    "df_randomized"
   ]
  },
  {
   "cell_type": "code",
   "execution_count": 173,
   "id": "4252dba3",
   "metadata": {},
   "outputs": [
    {
     "name": "stdout",
     "output_type": "stream",
     "text": [
      "(403, 6) (101, 6)\n"
     ]
    },
    {
     "name": "stderr",
     "output_type": "stream",
     "text": [
      "/home/ec2-user/anaconda3/envs/python3/lib/python3.10/site-packages/numpy/core/fromnumeric.py:57: FutureWarning: 'DataFrame.swapaxes' is deprecated and will be removed in a future version. Please use 'DataFrame.transpose' instead.\n",
      "  return bound(*args, **kwds)\n"
     ]
    }
   ],
   "source": [
    "train_data, test_data = np.split(df_randomized, [int(0.8*len (df_randomized))])\n",
    "\n",
    "print (train_data. shape, test_data.shape)"
   ]
  },
  {
   "cell_type": "markdown",
   "id": "c733e014",
   "metadata": {},
   "source": [
    "### Set a path and upload dataset to S3 bucket"
   ]
  },
  {
   "cell_type": "code",
   "execution_count": 174,
   "id": "b875c76c",
   "metadata": {},
   "outputs": [
    {
     "name": "stdout",
     "output_type": "stream",
     "text": [
      "s3://yahoofinancestockpriceproject1/xgboost-as-a-built-in-algo/train/train.csv\n",
      "s3://yahoofinancestockpriceproject1/xgboost-as-a-built-in-algo/test/test.csv\n"
     ]
    }
   ],
   "source": [
    "import os\n",
    "\n",
    "prefix = 'xgboost-as-a-built-in-algo'\n",
    "train_csv_path = 's3://{}/{}/{}/{}'.format(bucket_name, prefix, 'train', 'train.csv')\n",
    "test_csv_path = 's3://{}/{}/{}/{}'.format(bucket_name, prefix, 'test', 'test.csv')\n",
    "\n",
    "print(train_csv_path)\n",
    "print(test_csv_path)"
   ]
  },
  {
   "cell_type": "code",
   "execution_count": 175,
   "id": "408a31b1",
   "metadata": {},
   "outputs": [],
   "source": [
    "train_data.to_csv(train_csv_path, index = False, header = False)\n",
    "test_data.to_csv (test_csv_path, index = False, header = False)"
   ]
  },
  {
   "cell_type": "markdown",
   "id": "c1e965b3",
   "metadata": {},
   "source": [
    "### 3.Build XgBoost Model \n",
    "I'm using the XGBoost built-in algorithm to build an XGBoost training container as shown in the following code example. You can automatically spot the XGBoost\n",
    "built-in algorithm image URI using the SageMaker image_uris.retrieve API (or the get_image_uri API if using Amazon SageMaker Python SDK version 1). If\n",
    "you want to ensure if the image_uris.retrieve API finds the correct URI, see Common parameters for built-in algorithms and look up xgboost from the full list of\n",
    "built-in algorithm image URIs and available regions.\n",
    "After specifying the XGBoost image URI, you can use the XGBoost container to construct an estimator using the SageMaker Estimator API and initiate a\n",
    "training job. This XGBoost built-in algorithm mode does not incorporate your own XGBoost training script and runs directly on th\n",
    "Reference: https://docs.aws.amazon.com/sagemaker/latest/dg/xgboost.html"
   ]
  },
  {
   "cell_type": "code",
   "execution_count": 176,
   "id": "4a6d3f2a",
   "metadata": {},
   "outputs": [],
   "source": [
    "import sagemaker\n",
    "from sagemaker import image_uris\n",
    "from sagemaker.session import Session\n",
    "from sagemaker. inputs import TrainingInput"
   ]
  },
  {
   "cell_type": "markdown",
   "id": "9153a507",
   "metadata": {},
   "source": [
    "### Find a XGBoost image URI and builds an XGBoost container"
   ]
  },
  {
   "cell_type": "code",
   "execution_count": 177,
   "id": "5b193e3a",
   "metadata": {},
   "outputs": [
    {
     "name": "stderr",
     "output_type": "stream",
     "text": [
      "INFO:sagemaker.image_uris:Ignoring unnecessary instance type: None.\n"
     ]
    },
    {
     "data": {
      "text/plain": [
       "'683313688378.dkr.ecr.us-east-1.amazonaws.com/sagemaker-xgboost:1.2-2'"
      ]
     },
     "metadata": {},
     "output_type": "display_data"
    }
   ],
   "source": [
    "xgboost_container = image_uris. retrieve (\"xgboost\", boto3. Session().region_name, \"1.2-2\")\n",
    "display (xgboost_container)"
   ]
  },
  {
   "cell_type": "markdown",
   "id": "4b2513f7",
   "metadata": {},
   "source": [
    "### Initialize hyperparameters\n",
    "\n",
    "*Booster Parameters :\n",
    "\n",
    "1) #### max_depth  - Maximum depth of a tree. Increasing this value makes the model more complex and likely to be overfit. O indicates no limit. A limit is required when grow_policy=depth-wise.\n",
    "\n",
    "2) #### eta - Step size shrinkage used in updates to prevent overfitting. After each boosting step, you can directly get the weights of new features. The eta parameter actually shrinks the feature weights to make the boosting process more conservative.\n",
    "\n",
    "3) #### gamma - Minimum loss reduction required to make a further partition on a leaf node of the tree. The larger, the more conservative the algorithm is.\n",
    "\n",
    "4) #### min_child_weight - Minimum sum of instance weight (hessian) needed in a child. If the tree partition step results in a leaf node with the sum of instance weight less than min_child_weight, the building process gives up further partitioning. In linear regression models, this simply corresponds to a minimum number of instances needed in each node. The larger the algorithm, the more conservative it is.\n",
    "\n",
    "5) #### subsample - Subsample ratio of the training instance. Setting it to 0.5 means that XGBoost randomly collects half of the grow trees. This prevents overfitting.\n",
    "\n",
    "*Learning Task Parameters :\n",
    "\n",
    "objective - Specifies the learning task and the corresponding learning objective. Examples: reg:logistic, multi:softmax,\n",
    "(Reference: https://github.com/dmlc/xgboost/blob/master/doc/parameter.rst#learning-task-parameters)"
   ]
  },
  {
   "cell_type": "code",
   "execution_count": 178,
   "id": "aea758d0",
   "metadata": {},
   "outputs": [],
   "source": [
    "hyperparameters = {\n",
    "        \"max_depth\":\"5\",\n",
    "        \"eta\":\"0.2\",\n",
    "        \"gamma\":\"4\",\n",
    "        \"min_child_weight\":\"6\",\n",
    "        \"subsample\":\"0.7\",\n",
    "       \n",
    "        \"objective\":\"reg:squarederror\",\n",
    "        \"num_round\":\"50\"}"
   ]
  },
  {
   "cell_type": "markdown",
   "id": "e9e9629a",
   "metadata": {},
   "source": [
    "### Set an output path where the trained model will be saved"
   ]
  },
  {
   "cell_type": "code",
   "execution_count": 179,
   "id": "f3030c88",
   "metadata": {},
   "outputs": [
    {
     "name": "stdout",
     "output_type": "stream",
     "text": [
      "s3://yahoofinancestockpriceproject1/xgboost-as-a-built-in-algo/output/\n"
     ]
    }
   ],
   "source": [
    "#first {} is bucket name\n",
    "#second {} is prefix\n",
    "# output folder\n",
    "output_path = 's3://{}/{}/{}/'.format(bucket_name, prefix, 'output')\n",
    "print (output_path)"
   ]
  },
  {
   "cell_type": "markdown",
   "id": "10c64f07",
   "metadata": {},
   "source": [
    "### Construct a SageMaker estimator that calls the xgboost-container\n",
    "\n",
    "-Enable the train_use_spot_instances constructor arg - a simple self-explanatory boolean.\n",
    "\n",
    "-Set the train_max_wait  constructor arg - this is an int arg representing the amount of time you are willing to wait for Spot infrastructure to become available. Some instance types are harder to get at Spot prices and you may have to wait longer. You are not charged for time spent waiting for Spot infrastructure to become available, you're only charged for actual compute time spent once Spot instances have been successfully procured.\n",
    "\n",
    "-train_max_run - The timeout in seconds for training"
   ]
  },
  {
   "cell_type": "code",
   "execution_count": 180,
   "id": "7503ee8c",
   "metadata": {},
   "outputs": [],
   "source": [
    "estimator = sagemaker.estimator.Estimator(image_uri = xgboost_container,\n",
    "                                               hyperparameters = hyperparameters,\n",
    "                                               role = sagemaker.get_execution_role(),\n",
    "                                               instance_count = 1,\n",
    "                                               instance_type = 'ml.m4.xlarge',\n",
    "                                               volume_size = 5, # 5 GB\n",
    "                                               output_path = output_path,\n",
    "                                               use_spot_instances = True,\n",
    "                                               max_run = 300,\n",
    "                                               max_wait=600)\n",
    "                                                  "
   ]
  },
  {
   "cell_type": "markdown",
   "id": "c1286ac9",
   "metadata": {},
   "source": [
    "### Define the data type and paths to the training and validation datasets"
   ]
  },
  {
   "cell_type": "code",
   "execution_count": 181,
   "id": "fc46c069",
   "metadata": {},
   "outputs": [],
   "source": [
    "#content_type = \"csv\"\n",
    "train_input = TrainingInput(\"s3://{}/{}/{}/\".format(bucket_name, prefix, 'train'), content_type=\"csv\")\n",
    "test_input = TrainingInput(\"s3://{}/{}/{}/\".format(bucket_name, prefix, 'test'), content_type=\"csv\") "
   ]
  },
  {
   "cell_type": "markdown",
   "id": "0928e799",
   "metadata": {},
   "source": [
    "### Execute the XgBoost training job "
   ]
  },
  {
   "cell_type": "code",
   "execution_count": 182,
   "id": "34504560",
   "metadata": {},
   "outputs": [
    {
     "name": "stderr",
     "output_type": "stream",
     "text": [
      "INFO:sagemaker:Creating training-job with name: sagemaker-xgboost-2024-09-06-20-20-04-693\n"
     ]
    },
    {
     "name": "stdout",
     "output_type": "stream",
     "text": [
      "2024-09-06 20:20:04 Starting - Starting the training job...\n",
      "2024-09-06 20:20:35 Starting - Preparing the instances for training......\n",
      "2024-09-06 20:21:23 Downloading - Downloading input data...\n",
      "2024-09-06 20:21:43 Downloading - Downloading the training image........\u001b[34m[2024-09-06 20:23:21.110 ip-10-2-194-115.ec2.internal:7 INFO utils.py:27] RULE_JOB_STOP_SIGNAL_FILENAME: None\u001b[0m\n",
      "\u001b[34m[2024-09-06:20:23:21:INFO] Imported framework sagemaker_xgboost_container.training\u001b[0m\n",
      "\u001b[34m[2024-09-06:20:23:21:INFO] Failed to parse hyperparameter objective value reg:squarederror to Json.\u001b[0m\n",
      "\u001b[34mReturning the value itself\u001b[0m\n",
      "\u001b[34m[2024-09-06:20:23:21:INFO] No GPUs detected (normal if no gpus installed)\u001b[0m\n",
      "\u001b[34m[2024-09-06:20:23:21:INFO] Running XGBoost Sagemaker in algorithm mode\u001b[0m\n",
      "\u001b[34m[2024-09-06:20:23:21:INFO] Determined delimiter of CSV input is ','\u001b[0m\n",
      "\u001b[34m[2024-09-06:20:23:21:INFO] Determined delimiter of CSV input is ','\u001b[0m\n",
      "\u001b[34m[2024-09-06:20:23:21:INFO] Determined delimiter of CSV input is ','\u001b[0m\n",
      "\u001b[34m[2024-09-06:20:23:21:INFO] Determined delimiter of CSV input is ','\u001b[0m\n",
      "\u001b[34m[2024-09-06:20:23:21:INFO] Single node training.\u001b[0m\n",
      "\u001b[34m[2024-09-06:20:23:21:INFO] Train matrix has 403 rows and 5 columns\u001b[0m\n",
      "\u001b[34m[2024-09-06:20:23:21:INFO] Validation matrix has 101 rows\u001b[0m\n",
      "\u001b[34m[2024-09-06 20:23:21.229 ip-10-2-194-115.ec2.internal:7 INFO json_config.py:91] Creating hook from json_config at /opt/ml/input/config/debughookconfig.json.\u001b[0m\n",
      "\u001b[34m[2024-09-06 20:23:21.230 ip-10-2-194-115.ec2.internal:7 INFO hook.py:201] tensorboard_dir has not been set for the hook. SMDebug will not be exporting tensorboard summaries.\u001b[0m\n",
      "\u001b[34m[2024-09-06 20:23:21.230 ip-10-2-194-115.ec2.internal:7 INFO profiler_config_parser.py:102] User has disabled profiler.\u001b[0m\n",
      "\u001b[34m[2024-09-06 20:23:21.231 ip-10-2-194-115.ec2.internal:7 INFO hook.py:255] Saving to /opt/ml/output/tensors\u001b[0m\n",
      "\u001b[34m[2024-09-06 20:23:21.231 ip-10-2-194-115.ec2.internal:7 INFO state_store.py:77] The checkpoint config file /opt/ml/input/config/checkpointconfig.json does not exist.\u001b[0m\n",
      "\u001b[34m[2024-09-06:20:23:21:INFO] Debug hook created from config\u001b[0m\n",
      "\u001b[34m[0]#011train-rmse:63.00112#011validation-rmse:62.59032\u001b[0m\n",
      "\u001b[34m[2024-09-06 20:23:21.236 ip-10-2-194-115.ec2.internal:7 INFO hook.py:423] Monitoring the collections: metrics\u001b[0m\n",
      "\u001b[34m[2024-09-06 20:23:21.239 ip-10-2-194-115.ec2.internal:7 INFO hook.py:486] Hook is writing from the hook with pid: 7\u001b[0m\n",
      "\u001b[34m[1]#011train-rmse:50.72491#011validation-rmse:50.65975\u001b[0m\n",
      "\u001b[34m[2]#011train-rmse:40.89738#011validation-rmse:41.02247\u001b[0m\n",
      "\u001b[34m[3]#011train-rmse:32.91890#011validation-rmse:33.15461\u001b[0m\n",
      "\u001b[34m[4]#011train-rmse:26.61056#011validation-rmse:26.91866\u001b[0m\n",
      "\u001b[34m[5]#011train-rmse:21.46448#011validation-rmse:21.80041\u001b[0m\n",
      "\u001b[34m[6]#011train-rmse:17.33739#011validation-rmse:17.75434\u001b[0m\n",
      "\u001b[34m[7]#011train-rmse:13.99968#011validation-rmse:14.46122\u001b[0m\n",
      "\u001b[34m[8]#011train-rmse:11.32147#011validation-rmse:11.80035\u001b[0m\n",
      "\u001b[34m[9]#011train-rmse:9.17220#011validation-rmse:9.67721\u001b[0m\n",
      "\u001b[34m[10]#011train-rmse:7.46682#011validation-rmse:8.00288\u001b[0m\n",
      "\u001b[34m[11]#011train-rmse:6.06137#011validation-rmse:6.61192\u001b[0m\n",
      "\u001b[34m[12]#011train-rmse:4.98040#011validation-rmse:5.55876\u001b[0m\n",
      "\u001b[34m[13]#011train-rmse:4.12162#011validation-rmse:4.71865\u001b[0m\n",
      "\u001b[34m[14]#011train-rmse:3.43648#011validation-rmse:4.01075\u001b[0m\n",
      "\u001b[34m[15]#011train-rmse:2.89256#011validation-rmse:3.50759\u001b[0m\n",
      "\u001b[34m[16]#011train-rmse:2.44996#011validation-rmse:3.02530\u001b[0m\n",
      "\u001b[34m[17]#011train-rmse:2.11885#011validation-rmse:2.71661\u001b[0m\n",
      "\u001b[34m[18]#011train-rmse:1.87925#011validation-rmse:2.51161\u001b[0m\n",
      "\u001b[34m[19]#011train-rmse:1.68445#011validation-rmse:2.32853\u001b[0m\n",
      "\u001b[34m[20]#011train-rmse:1.52636#011validation-rmse:2.17184\u001b[0m\n",
      "\u001b[34m[21]#011train-rmse:1.40507#011validation-rmse:2.04166\u001b[0m\n",
      "\u001b[34m[22]#011train-rmse:1.32320#011validation-rmse:1.93273\u001b[0m\n",
      "\u001b[34m[23]#011train-rmse:1.25424#011validation-rmse:1.85934\u001b[0m\n",
      "\u001b[34m[24]#011train-rmse:1.20026#011validation-rmse:1.78308\u001b[0m\n",
      "\u001b[34m[25]#011train-rmse:1.17800#011validation-rmse:1.75910\u001b[0m\n",
      "\u001b[34m[26]#011train-rmse:1.15040#011validation-rmse:1.75383\u001b[0m\n",
      "\u001b[34m[27]#011train-rmse:1.13311#011validation-rmse:1.71937\u001b[0m\n",
      "\u001b[34m[28]#011train-rmse:1.10890#011validation-rmse:1.68935\u001b[0m\n",
      "\u001b[34m[29]#011train-rmse:1.09116#011validation-rmse:1.68046\u001b[0m\n",
      "\u001b[34m[30]#011train-rmse:1.07385#011validation-rmse:1.68206\u001b[0m\n",
      "\u001b[34m[31]#011train-rmse:1.05402#011validation-rmse:1.66547\u001b[0m\n",
      "\u001b[34m[32]#011train-rmse:1.04815#011validation-rmse:1.67206\u001b[0m\n",
      "\u001b[34m[33]#011train-rmse:1.03182#011validation-rmse:1.68381\u001b[0m\n",
      "\u001b[34m[34]#011train-rmse:1.00841#011validation-rmse:1.65952\u001b[0m\n",
      "\u001b[34m[35]#011train-rmse:1.00913#011validation-rmse:1.66620\u001b[0m\n",
      "\u001b[34m[36]#011train-rmse:0.99996#011validation-rmse:1.64769\u001b[0m\n",
      "\u001b[34m[37]#011train-rmse:0.99077#011validation-rmse:1.65477\u001b[0m\n",
      "\u001b[34m[38]#011train-rmse:0.98019#011validation-rmse:1.63435\u001b[0m\n",
      "\u001b[34m[39]#011train-rmse:0.97414#011validation-rmse:1.62587\u001b[0m\n",
      "\u001b[34m[40]#011train-rmse:0.96526#011validation-rmse:1.63441\u001b[0m\n",
      "\u001b[34m[41]#011train-rmse:0.96051#011validation-rmse:1.63395\u001b[0m\n",
      "\u001b[34m[42]#011train-rmse:0.95598#011validation-rmse:1.64006\u001b[0m\n",
      "\u001b[34m[43]#011train-rmse:0.95396#011validation-rmse:1.63259\u001b[0m\n",
      "\u001b[34m[44]#011train-rmse:0.94856#011validation-rmse:1.62757\u001b[0m\n",
      "\u001b[34m[45]#011train-rmse:0.94052#011validation-rmse:1.61388\u001b[0m\n",
      "\u001b[34m[46]#011train-rmse:0.93188#011validation-rmse:1.62145\u001b[0m\n",
      "\u001b[34m[47]#011train-rmse:0.92293#011validation-rmse:1.60335\u001b[0m\n",
      "\u001b[34m[48]#011train-rmse:0.91712#011validation-rmse:1.61095\u001b[0m\n",
      "\u001b[34m[49]#011train-rmse:0.91319#011validation-rmse:1.60370\u001b[0m\n",
      "\n",
      "2024-09-06 20:23:38 Training - Training image download completed. Training in progress.\n",
      "2024-09-06 20:23:38 Uploading - Uploading generated training model\n",
      "2024-09-06 20:23:38 Completed - Training job completed\n",
      "Training seconds: 135\n",
      "Billable seconds: 50\n",
      "Managed Spot Training savings: 63.0%\n"
     ]
    }
   ],
   "source": [
    "estimator.fit({'train': train_input , 'validation': test_input})"
   ]
  },
  {
   "cell_type": "markdown",
   "id": "32619ae3",
   "metadata": {},
   "source": [
    "### 4.Deploy trained xgb model as Endpoint\n",
    "I\n",
    "1. Environment\n",
    "> Within SageMaker - Serialization by User<br>\n",
    "> **Outside SageMaker Serialization by Endpoint**\n",
    "2. Method to invoke the endpoint\n",
    "> **API - Single Prediction**<br>\n",
    "> $3 Bucket Batch Prediction\n",
    "3. Data type based on method\n",
    "> **API - JSON**<br>\n",
    "> s3 Bucket CSV"
   ]
  },
  {
   "cell_type": "markdown",
   "id": "0ae1bffa",
   "metadata": {},
   "source": [
    "To host a model through Amazon EC2 using Amazon SageMaker, deploy the model that you trained in Create and Run a Training Job by calling the deploy **method** of the **xgb_model estimator**. \n",
    "\n",
    "When you call the deploy method, few key things that you need to specify\n",
    "\n",
    "**initial_instance_count (int)**- The number of instances to deploy the model.\n",
    "\n",
    "**instance_type (str)** - The type of instances that you want to operate your deployed model.\n",
    "\n",
    "**serializer (int)** - Serialize input data of various formats (a NumPy array, list, file, or buffer) to a CSV-formatted string. We use this because the XGBoost algorithm accepts input files in CSV format."
   ]
  },
  {
   "cell_type": "code",
   "execution_count": 183,
   "id": "9ab4b425",
   "metadata": {},
   "outputs": [
    {
     "name": "stderr",
     "output_type": "stream",
     "text": [
      "INFO:sagemaker:Creating model with name: sagemaker-xgboost-2024-09-06-20-23-51-881\n",
      "INFO:sagemaker:Creating endpoint-config with name sagemaker-xgboost-2024-09-06-20-23-51-881\n",
      "INFO:sagemaker:Creating endpoint with name sagemaker-xgboost-2024-09-06-20-23-51-881\n"
     ]
    },
    {
     "name": "stdout",
     "output_type": "stream",
     "text": [
      "--------!"
     ]
    }
   ],
   "source": [
    "from sagemaker.serializers import CSVSerializer\n",
    "\n",
    "xgb_predictor =estimator.deploy(initial_instance_count=1, instance_type= 'ml.m4.xlarge', serializer=CSVSerializer())"
   ]
  },
  {
   "cell_type": "code",
   "execution_count": 184,
   "id": "59cdba73",
   "metadata": {},
   "outputs": [
    {
     "data": {
      "text/plain": [
       "'sagemaker-xgboost-2024-09-06-20-23-51-881'"
      ]
     },
     "execution_count": 184,
     "metadata": {},
     "output_type": "execute_result"
    }
   ],
   "source": [
    "xgb_predictor.endpoint_name"
   ]
  },
  {
   "cell_type": "markdown",
   "id": "287a1640",
   "metadata": {},
   "source": [
    "### Make prediction with the use of Endpoints"
   ]
  },
  {
   "cell_type": "code",
   "execution_count": 185,
   "id": "f490d981",
   "metadata": {},
   "outputs": [
    {
     "name": "stderr",
     "output_type": "stream",
     "text": [
      "[*********************100%***********************]  1 of 1 completed\n"
     ]
    },
    {
     "data": {
      "text/html": [
       "<div>\n",
       "<style scoped>\n",
       "    .dataframe tbody tr th:only-of-type {\n",
       "        vertical-align: middle;\n",
       "    }\n",
       "\n",
       "    .dataframe tbody tr th {\n",
       "        vertical-align: top;\n",
       "    }\n",
       "\n",
       "    .dataframe thead th {\n",
       "        text-align: right;\n",
       "    }\n",
       "</style>\n",
       "<table border=\"1\" class=\"dataframe\">\n",
       "  <thead>\n",
       "    <tr style=\"text-align: right;\">\n",
       "      <th></th>\n",
       "      <th>Date</th>\n",
       "      <th>Open</th>\n",
       "      <th>High</th>\n",
       "      <th>Low</th>\n",
       "      <th>Close</th>\n",
       "      <th>Adj Close</th>\n",
       "      <th>Volume</th>\n",
       "    </tr>\n",
       "  </thead>\n",
       "  <tbody>\n",
       "    <tr>\n",
       "      <th>0</th>\n",
       "      <td>2021-01-04</td>\n",
       "      <td>133.520004</td>\n",
       "      <td>133.610001</td>\n",
       "      <td>126.760002</td>\n",
       "      <td>129.410004</td>\n",
       "      <td>126.683441</td>\n",
       "      <td>143301900</td>\n",
       "    </tr>\n",
       "  </tbody>\n",
       "</table>\n",
       "</div>"
      ],
      "text/plain": [
       "        Date        Open        High         Low       Close   Adj Close  \\\n",
       "0 2021-01-04  133.520004  133.610001  126.760002  129.410004  126.683441   \n",
       "\n",
       "      Volume  \n",
       "0  143301900  "
      ]
     },
     "execution_count": 185,
     "metadata": {},
     "output_type": "execute_result"
    }
   ],
   "source": [
    "# initialize parameters\n",
    "start_date = datetime(2021, 1, 4)\n",
    "end_date = datetime(2021, 1, 5)\n",
    "# get the data\n",
    "df_data = yf.download('AAPL', start = start_date, end = end_date)\n",
    "df_data.reset_index(inplace=True)\n",
    "df_data"
   ]
  },
  {
   "cell_type": "code",
   "execution_count": 186,
   "id": "f24fb30b",
   "metadata": {},
   "outputs": [
    {
     "data": {
      "text/plain": [
       "array([[1.33520004e+02, 1.33610001e+02, 1.26760002e+02, 1.29410004e+02,\n",
       "        1.43301900e+08]])"
      ]
     },
     "execution_count": 186,
     "metadata": {},
     "output_type": "execute_result"
    }
   ],
   "source": [
    "df_data.drop(axis=1, columns=['Adj Close'], inplace=True)\n",
    "df_data.drop(axis=1, columns=['Date'], inplace=True)\n",
    "data_features_array = df_data.values\n",
    "data_features_array"
   ]
  },
  {
   "cell_type": "markdown",
   "id": "0062f5cf",
   "metadata": {},
   "source": [
    "### Serialize data\n",
    "\n",
    "\n",
    "### Inference - Serialized Input by Sagemaker Function"
   ]
  },
  {
   "cell_type": "code",
   "execution_count": 187,
   "id": "a76c9e27",
   "metadata": {},
   "outputs": [
    {
     "name": "stdout",
     "output_type": "stream",
     "text": [
      "132.3885040283203\n",
      " <class 'str'>\n"
     ]
    }
   ],
   "source": [
    "Y_pred_Fcn = xgb_predictor.predict(data_features_array) .decode('utf-8')\n",
    "print(Y_pred_Fcn, type(Y_pred_Fcn))"
   ]
  },
  {
   "cell_type": "code",
   "execution_count": 188,
   "id": "76b9a11e",
   "metadata": {},
   "outputs": [
    {
     "name": "stdout",
     "output_type": "stream",
     "text": [
      "133.520004,133.610001,126.760002,129.410004,143301900.0 <class 'str'>\n"
     ]
    },
    {
     "data": {
      "text/plain": [
       "'132.3885040283203\\n'"
      ]
     },
     "execution_count": 188,
     "metadata": {},
     "output_type": "execute_result"
    }
   ],
   "source": [
    "from sagemaker.serializers import CSVSerializer\n",
    "Serialized_Input_Fcn = CSVSerializer().serialize([[1.33520004e+02, 1.33610001e+02, 1.26760002e+02, 1.29410004e+02,\n",
    "1.43301900e+08]])\n",
    "print(Serialized_Input_Fcn, type(Serialized_Input_Fcn))\n",
    "Y_pred_Fcn = xgb_predictor.predict(Serialized_Input_Fcn) .decode('utf-8')\n",
    "Y_pred_Fcn"
   ]
  },
  {
   "cell_type": "markdown",
   "id": "1590062b",
   "metadata": {},
   "source": [
    "### Inference - Serialized Input by built-in function (Lambda function friendly)"
   ]
  },
  {
   "cell_type": "code",
   "execution_count": 189,
   "id": "5c702197",
   "metadata": {},
   "outputs": [
    {
     "name": "stdout",
     "output_type": "stream",
     "text": [
      "133.520004, 133.610001, 126.760002, 129.410004, 143301900.0 <class 'str'>\n"
     ]
    },
    {
     "data": {
      "text/plain": [
       "'132.3885040283203\\n'"
      ]
     },
     "execution_count": 189,
     "metadata": {},
     "output_type": "execute_result"
    }
   ],
   "source": [
    "Input = [[1.33520004e+02, 1.33610001e+02, 1.26760002e+02, 1.29410004e+02, 1.43301900e+08],\n",
    "[1.33520004e+02, 1.33610001e+02, 1.26760002e+02, 1.29410004e+02, 1.43301900e+08],\n",
    "[1.33520004e+02, 1.33610001e+02, 1.26760002e+02, 1.29410004e+02, 1.43301900e+08]]\n",
    "\n",
    "Serialized_Input = ', '.join(map(str, Input[0]))\n",
    "\n",
    "print(Serialized_Input, type(Serialized_Input))\n",
    "\n",
    "Y_pred= xgb_predictor.predict(Serialized_Input).decode('utf-8')\n",
    "\n",
    "Y_pred"
   ]
  },
  {
   "cell_type": "markdown",
   "id": "637e421d",
   "metadata": {},
   "source": [
    "### 5. Lambda function handler"
   ]
  },
  {
   "cell_type": "code",
   "execution_count": 190,
   "id": "ca176e93",
   "metadata": {},
   "outputs": [],
   "source": [
    "import boto3\n",
    "\n",
    "ENDPOINT_NAME = 'sagemaker-xgboost-2024-09-04-21-56-30-042'\n",
    "\n",
    "runtime = boto3.client('runtime.sagemaker')\n",
    "\n",
    "def lambda_handler(event, context):\n",
    "        inputs=event['data']\n",
    "        result = []\n",
    "        for input in inputs:\n",
    "            serialized_input = ','.join(map (str, input))\n",
    "            \n",
    "            response = runtime.invoke_endpoint (EndpointName=ENDPOINT_NAME,\n",
    "                                                ContentType='text/csv',\n",
    "                                                Body=serialized_input)\n",
    "            \n",
    "            result.append(response [ 'Body' ].read().decode())\n",
    "        return result\n",
    "\n"
   ]
  },
  {
   "cell_type": "code",
   "execution_count": 191,
   "id": "48387a5c",
   "metadata": {},
   "outputs": [
    {
     "data": {
      "text/plain": [
       "['132.3885040283203\\n', '132.3885040283203\\n', '132.3885040283203\\n']"
      ]
     },
     "execution_count": 191,
     "metadata": {},
     "output_type": "execute_result"
    }
   ],
   "source": [
    "Input_json = { 'data':\n",
    "[[1.33520004e+02, 1.33610001e+02, 1.26760002e+02, 1.29410004e+02, 1.43301900e+08],\n",
    "[1.33520004e+02, 1.33610001e+02, 1.26760002e+02, 1.29410004e+02, 1.43301900e+08],\n",
    "[1.33520004e+02, 1.33610001e+02, 1.26760002e+02, 1.29410004e+02, 1.43301900e+08]\n",
    "]\n",
    "}\n",
    "result = lambda_handler (Input_json, _)\n",
    "result"
   ]
  },
  {
   "cell_type": "code",
   "execution_count": null,
   "id": "5226c09b",
   "metadata": {},
   "outputs": [],
   "source": [
    "#importing the requests Library\n",
    "import requests\n",
    "#defining the api-endpoint\n",
    "API_ENDPOINT = \"https://4o55mgqu1h.execute-api.us-east-1.amazonaws.com/xgb\"\n",
    "#data to be sent to api\n",
    "json {\"data\": [[1.33520004e+02, 1.33610001e+02, 1.26760002e+02, 1.29410004e+02, 1.43301900e+08],\n",
    "[1.33520004e+02, 1.33610001e+02, 1.26760002e+02, 1.29410004e+02, 1.43301900e+08],\n",
    "[1.33520004e+02, 1.33610001e+02, 1.26760002e+02, 1.29410004e+02, 1.43301900e+08]]\n",
    "}\n",
    "# sending post request and saving response as response object\n",
    "r = requests.post(url = API_ENDPOINT, json = json)"
   ]
  },
  {
   "cell_type": "code",
   "execution_count": 192,
   "id": "70a063bb",
   "metadata": {},
   "outputs": [
    {
     "name": "stderr",
     "output_type": "stream",
     "text": [
      "WARNING:sagemaker.deprecations:The endpoint attribute has been renamed in sagemaker>=2.\n",
      "See: https://sagemaker.readthedocs.io/en/stable/v2.html for details.\n",
      "INFO:sagemaker:Deleting endpoint with name: sagemaker-xgboost-2024-09-06-20-23-51-881\n"
     ]
    }
   ],
   "source": [
    "sagemaker. Session().delete_endpoint (xgb_predictor.endpoint)"
   ]
  },
  {
   "cell_type": "code",
   "execution_count": 193,
   "id": "93c79ab9",
   "metadata": {},
   "outputs": [
    {
     "data": {
      "text/plain": [
       "[{'ResponseMetadata': {'RequestId': '98CMRKFZDYSG71WP',\n",
       "   'HostId': '9HZAMlULadsHEa5vhs8udpybAWRo4+aFI229Qu1QuEzr4nbVisj7ShIcUTGESUhMfHQeB3huTpxZFnluNkyctzwg/RVGUZwoB4cJZlNeEhs=',\n",
       "   'HTTPStatusCode': 200,\n",
       "   'HTTPHeaders': {'x-amz-id-2': '9HZAMlULadsHEa5vhs8udpybAWRo4+aFI229Qu1QuEzr4nbVisj7ShIcUTGESUhMfHQeB3huTpxZFnluNkyctzwg/RVGUZwoB4cJZlNeEhs=',\n",
       "    'x-amz-request-id': '98CMRKFZDYSG71WP',\n",
       "    'date': 'Fri, 06 Sep 2024 22:01:46 GMT',\n",
       "    'content-type': 'application/xml',\n",
       "    'transfer-encoding': 'chunked',\n",
       "    'server': 'AmazonS3',\n",
       "    'connection': 'close'},\n",
       "   'RetryAttempts': 0},\n",
       "  'Deleted': [{'Key': 'xgboost-as-a-built-in-algo/output/sagemaker-xgboost-2024-09-04-21-45-59-551/debug-output/index/000000000/000000000030_worker_0.json'},\n",
       "   {'Key': 'xgboost-as-a-built-in-algo/output/sagemaker-xgboost-2024-09-06-20-20-04-693/debug-output/index/000000000/000000000010_worker_0.json'},\n",
       "   {'Key': 'xgboost-as-a-built-in-algo/output/sagemaker-xgboost-2024-09-06-20-20-04-693/debug-output/events/000000000020/000000000020_worker_0.tfevents'},\n",
       "   {'Key': 'xgboost-as-a-built-in-algo/output/sagemaker-xgboost-2024-09-04-21-18-52-422/profiler-output/system/training_job_end.ts'},\n",
       "   {'Key': 'xgboost-as-a-built-in-algo/output/sagemaker-xgboost-2024-09-04-21-48-47-818/debug-output/training_job_end.ts'},\n",
       "   {'Key': 'xgboost-as-a-built-in-algo/output/sagemaker-xgboost-2024-09-06-20-20-04-693/profiler-output/framework/training_job_end.ts'},\n",
       "   {'Key': 'xgboost-as-a-built-in-algo/output/sagemaker-xgboost-2024-09-06-20-20-04-693/debug-output/events/000000000000/000000000000_worker_0.tfevents'},\n",
       "   {'Key': 'xgboost-as-a-built-in-algo/output/sagemaker-xgboost-2024-09-06-20-20-04-693/profiler-output/system/training_job_end.ts'},\n",
       "   {'Key': 'xgboost-as-a-built-in-algo/output/sagemaker-xgboost-2024-09-04-21-45-59-551/debug-output/training_job_end.ts'},\n",
       "   {'Key': 'xgboost-as-a-built-in-algo/output/sagemaker-xgboost-2024-09-04-21-45-59-551/debug-output/events/000000000030/000000000030_worker_0.tfevents'},\n",
       "   {'Key': 'xgboost-as-a-built-in-algo/output/sagemaker-xgboost-2024-09-04-21-24-37-643/debug-output/training_job_end.ts'},\n",
       "   {'Key': 'xgboost-as-a-built-in-algo/output/sagemaker-xgboost-2024-09-04-20-45-19-513/profiler-output/system/incremental/2024090420/1725482820.algo-1.json'},\n",
       "   {'Key': 'xgboost-as-a-built-in-algo/output/sagemaker-xgboost-2024-09-04-21-18-52-422/profiler-output/framework/training_job_end.ts'},\n",
       "   {'Key': 'xgboost-as-a-built-in-algo/output/sagemaker-xgboost-2024-09-04-21-24-37-643/profiler-output/system/incremental/2024090421/1725485220.algo-1.json'},\n",
       "   {'Key': 'xgboost-as-a-built-in-algo/output/sagemaker-xgboost-2024-09-04-21-45-59-551/profiler-output/system/training_job_end.ts'},\n",
       "   {'Key': 'xgboost-as-a-built-in-algo/output/sagemaker-xgboost-2024-09-04-21-18-52-422/debug-output/training_job_end.ts'},\n",
       "   {'Key': 'xgboost-as-a-built-in-algo/output/sagemaker-xgboost-2024-09-04-21-48-47-818/debug-output/claim.smd'},\n",
       "   {'Key': 'xgboost-as-a-built-in-algo/output/sagemaker-xgboost-2024-09-04-20-45-19-513/debug-output/training_job_end.ts'},\n",
       "   {'Key': 'xgboost-as-a-built-in-algo/output/sagemaker-xgboost-2024-09-04-21-18-52-422/profiler-output/system/incremental/2024090421/1725484860.algo-1.json'},\n",
       "   {'Key': 'xgboost-as-a-built-in-algo/output/sagemaker-xgboost-2024-09-04-21-24-37-643/profiler-output/system/incremental/2024090421/1725485280.algo-1.json'},\n",
       "   {'Key': 'xgboost-as-a-built-in-algo/output/sagemaker-xgboost-2024-09-04-21-45-59-551/profiler-output/system/incremental/2024090421/1725486480.algo-1.json'},\n",
       "   {'Key': 'xgboost-as-a-built-in-algo/output/sagemaker-xgboost-2024-09-04-20-56-32-549/debug-output/training_job_end.ts'},\n",
       "   {'Key': 'xgboost-as-a-built-in-algo/output/sagemaker-xgboost-2024-09-06-20-20-04-693/debug-output/index/000000000/000000000030_worker_0.json'},\n",
       "   {'Key': 'xgboost-as-a-built-in-algo/output/sagemaker-xgboost-2024-09-04-21-48-47-818/debug-output/events/000000000030/000000000030_worker_0.tfevents'},\n",
       "   {'Key': 'xgboost-as-a-built-in-algo/output/sagemaker-xgboost-2024-09-04-20-56-32-549/profiler-output/framework/training_job_end.ts'},\n",
       "   {'Key': 'xgboost-as-a-built-in-algo/output/sagemaker-xgboost-2024-09-06-20-20-04-693/output/model.tar.gz'},\n",
       "   {'Key': 'xgboost-as-a-built-in-algo/output/sagemaker-xgboost-2024-09-06-20-20-04-693/debug-output/claim.smd'},\n",
       "   {'Key': 'xgboost-as-a-built-in-algo/output/sagemaker-xgboost-2024-09-04-21-24-37-643/profiler-output/system/incremental/2024090421/1725485100.algo-1.json'},\n",
       "   {'Key': 'xgboost-as-a-built-in-algo/output/sagemaker-xgboost-2024-09-06-20-20-04-693/debug-output/events/000000000010/000000000010_worker_0.tfevents'},\n",
       "   {'Key': 'xgboost-as-a-built-in-algo/output/sagemaker-xgboost-2024-09-04-21-45-59-551/profiler-output/framework/training_job_end.ts'},\n",
       "   {'Key': 'xgboost-as-a-built-in-algo/output/sagemaker-xgboost-2024-09-04-21-10-01-971/debug-output/training_job_end.ts'},\n",
       "   {'Key': 'xgboost-as-a-built-in-algo/output/sagemaker-xgboost-2024-09-06-20-20-04-693/profiler-output/system/incremental/2024090620/1725654060.algo-1.json'},\n",
       "   {'Key': 'xgboost-as-a-built-in-algo/output/sagemaker-xgboost-2024-09-04-20-45-19-513/profiler-output/system/incremental/2024090420/1725482880.algo-1.json'},\n",
       "   {'Key': 'xgboost-as-a-built-in-algo/output/sagemaker-xgboost-2024-09-04-20-45-19-513/profiler-output/system/incremental/2024090420/1725482760.algo-1.json'},\n",
       "   {'Key': 'xgboost-as-a-built-in-algo/output/sagemaker-xgboost-2024-09-04-21-10-01-971/profiler-output/system/incremental/2024090421/1725484260.algo-1.json'},\n",
       "   {'Key': 'xgboost-as-a-built-in-algo/output/sagemaker-xgboost-2024-09-04-21-45-59-551/debug-output/index/000000000/000000000020_worker_0.json'},\n",
       "   {'Key': 'xgboost-as-a-built-in-algo/output/sagemaker-xgboost-2024-09-04-21-45-59-551/profiler-output/system/incremental/2024090421/1725486420.algo-1.json'},\n",
       "   {'Key': 'xgboost-as-a-built-in-algo/output/sagemaker-xgboost-2024-09-04-21-10-01-971/profiler-output/framework/training_job_end.ts'},\n",
       "   {'Key': 'xgboost-as-a-built-in-algo/output/sagemaker-xgboost-2024-09-04-21-45-59-551/debug-output/events/000000000040/000000000040_worker_0.tfevents'},\n",
       "   {'Key': 'xgboost-as-a-built-in-algo/output/sagemaker-xgboost-2024-09-04-21-24-37-643/profiler-output/system/incremental/2024090421/1725485160.algo-1.json'},\n",
       "   {'Key': 'xgboost-as-a-built-in-algo/output/sagemaker-xgboost-2024-09-04-21-48-47-818/debug-output/index/000000000/000000000020_worker_0.json'},\n",
       "   {'Key': 'xgboost-as-a-built-in-algo/output/sagemaker-xgboost-2024-09-06-20-20-04-693/debug-output/index/000000000/000000000040_worker_0.json'},\n",
       "   {'Key': 'xgboost-as-a-built-in-algo/output/sagemaker-xgboost-2024-09-04-20-45-19-513/profiler-output/framework/training_job_end.ts'},\n",
       "   {'Key': 'xgboost-as-a-built-in-algo/output/sagemaker-xgboost-2024-09-04-21-48-47-818/output/model.tar.gz'},\n",
       "   {'Key': 'xgboost-as-a-built-in-algo/output/sagemaker-xgboost-2024-09-04-21-48-47-818/debug-output/events/000000000010/000000000010_worker_0.tfevents'},\n",
       "   {'Key': 'xgboost-as-a-built-in-algo/output/sagemaker-xgboost-2024-09-06-20-20-04-693/debug-output/collections/000000000/worker_0_collections.json'},\n",
       "   {'Key': 'xgboost-as-a-built-in-algo/output/sagemaker-xgboost-2024-09-04-21-48-47-818/profiler-output/system/incremental/2024090421/1725486600.algo-1.json'},\n",
       "   {'Key': 'xgboost-as-a-built-in-algo/output/sagemaker-xgboost-2024-09-04-21-45-59-551/debug-output/events/000000000020/000000000020_worker_0.tfevents'},\n",
       "   {'Key': 'xgboost-as-a-built-in-algo/output/sagemaker-xgboost-2024-09-04-21-10-01-971/profiler-output/system/incremental/2024090421/1725484380.algo-1.json'},\n",
       "   {'Key': 'xgboost-as-a-built-in-algo/output/sagemaker-xgboost-2024-09-06-20-20-04-693/debug-output/index/000000000/000000000020_worker_0.json'},\n",
       "   {'Key': 'xgboost-as-a-built-in-algo/output/sagemaker-xgboost-2024-09-04-20-56-32-549/profiler-output/system/incremental/2024090420/1725483540.algo-1.json'},\n",
       "   {'Key': 'xgboost-as-a-built-in-algo/output/sagemaker-xgboost-2024-09-06-20-20-04-693/debug-output/events/000000000030/000000000030_worker_0.tfevents'},\n",
       "   {'Key': 'xgboost-as-a-built-in-algo/output/sagemaker-xgboost-2024-09-04-21-48-47-818/profiler-output/system/incremental/2024090421/1725486720.algo-1.json'},\n",
       "   {'Key': 'xgboost-as-a-built-in-algo/test/test.csv'},\n",
       "   {'Key': 'xgboost-as-a-built-in-algo/output/sagemaker-xgboost-2024-09-04-20-38-45-152/profiler-output/system/incremental/2024090420/1725482400.algo-1.json'},\n",
       "   {'Key': 'xgboost-as-a-built-in-algo/output/sagemaker-xgboost-2024-09-04-20-38-45-152/profiler-output/system/training_job_end.ts'},\n",
       "   {'Key': 'xgboost-as-a-built-in-algo/output/sagemaker-xgboost-2024-09-04-20-38-45-152/debug-output/training_job_end.ts'},\n",
       "   {'Key': 'xgboost-as-a-built-in-algo/output/sagemaker-xgboost-2024-09-04-21-45-59-551/debug-output/collections/000000000/worker_0_collections.json'},\n",
       "   {'Key': 'xgboost-as-a-built-in-algo/output/sagemaker-xgboost-2024-09-06-20-20-04-693/profiler-output/system/incremental/2024090620/1725654120.algo-1.json'},\n",
       "   {'Key': 'xgboost-as-a-built-in-algo/output/sagemaker-xgboost-2024-09-04-21-45-59-551/debug-output/events/000000000010/000000000010_worker_0.tfevents'},\n",
       "   {'Key': 'xgboost-as-a-built-in-algo/output/sagemaker-xgboost-2024-09-04-21-48-47-818/debug-output/index/000000000/000000000000_worker_0.json'},\n",
       "   {'Key': 'xgboost-as-a-built-in-algo/output/sagemaker-xgboost-2024-09-04-21-10-01-971/profiler-output/system/incremental/2024090421/1725484320.algo-1.json'},\n",
       "   {'Key': 'xgboost-as-a-built-in-algo/train/train.csv'},\n",
       "   {'Key': 'xgboost-as-a-built-in-algo/output/sagemaker-xgboost-2024-09-04-20-56-32-549/profiler-output/system/incremental/2024090420/1725483480.algo-1.json'},\n",
       "   {'Key': 'xgboost-as-a-built-in-algo/output/sagemaker-xgboost-2024-09-04-21-45-59-551/debug-output/index/000000000/000000000040_worker_0.json'},\n",
       "   {'Key': 'xgboost-as-a-built-in-algo/output/sagemaker-xgboost-2024-09-04-21-18-52-422/profiler-output/system/incremental/2024090421/1725484800.algo-1.json'},\n",
       "   {'Key': 'xgboost-as-a-built-in-algo/output/sagemaker-xgboost-2024-09-04-21-45-59-551/debug-output/events/000000000000/000000000000_worker_0.tfevents'},\n",
       "   {'Key': 'xgboost-as-a-built-in-algo/output/sagemaker-xgboost-2024-09-04-20-38-45-152/profiler-output/system/incremental/2024090420/1725482460.algo-1.json'},\n",
       "   {'Key': 'xgboost-as-a-built-in-algo/output/sagemaker-xgboost-2024-09-04-21-48-47-818/debug-output/events/000000000020/000000000020_worker_0.tfevents'},\n",
       "   {'Key': 'xgboost-as-a-built-in-algo/output/sagemaker-xgboost-2024-09-04-20-38-45-152/profiler-output/framework/training_job_end.ts'},\n",
       "   {'Key': 'xgboost-as-a-built-in-algo/output/sagemaker-xgboost-2024-09-04-21-24-37-643/profiler-output/system/training_job_end.ts'},\n",
       "   {'Key': 'xgboost-as-a-built-in-algo/output/sagemaker-xgboost-2024-09-04-20-56-32-549/profiler-output/system/incremental/2024090421/1725483600.algo-1.json'},\n",
       "   {'Key': 'xgboost-as-a-built-in-algo/output/sagemaker-xgboost-2024-09-04-21-45-59-551/profiler-output/system/incremental/2024090421/1725486540.algo-1.json'},\n",
       "   {'Key': 'xgboost-as-a-built-in-algo/output/sagemaker-xgboost-2024-09-04-21-48-47-818/debug-output/index/000000000/000000000040_worker_0.json'},\n",
       "   {'Key': 'xgboost-as-a-built-in-algo/output/sagemaker-xgboost-2024-09-04-20-56-32-549/profiler-output/system/training_job_end.ts'},\n",
       "   {'Key': 'xgboost-as-a-built-in-algo/output/sagemaker-xgboost-2024-09-04-21-18-52-422/profiler-output/system/incremental/2024090421/1725484920.algo-1.json'},\n",
       "   {'Key': 'xgboost-as-a-built-in-algo/output/sagemaker-xgboost-2024-09-04-21-45-59-551/output/model.tar.gz'},\n",
       "   {'Key': 'xgboost-as-a-built-in-algo/output/sagemaker-xgboost-2024-09-06-20-20-04-693/profiler-output/system/incremental/2024090620/1725654180.algo-1.json'},\n",
       "   {'Key': 'xgboost-as-a-built-in-algo/output/sagemaker-xgboost-2024-09-04-21-48-47-818/debug-output/index/000000000/000000000030_worker_0.json'},\n",
       "   {'Key': 'xgboost-as-a-built-in-algo/output/sagemaker-xgboost-2024-09-04-21-48-47-818/profiler-output/framework/training_job_end.ts'},\n",
       "   {'Key': 'xgboost-as-a-built-in-algo/output/sagemaker-xgboost-2024-09-04-21-48-47-818/profiler-output/system/incremental/2024090421/1725486660.algo-1.json'},\n",
       "   {'Key': 'xgboost-as-a-built-in-algo/output/sagemaker-xgboost-2024-09-04-21-10-01-971/profiler-output/system/training_job_end.ts'},\n",
       "   {'Key': 'xgboost-as-a-built-in-algo/output/sagemaker-xgboost-2024-09-04-21-45-59-551/debug-output/index/000000000/000000000000_worker_0.json'},\n",
       "   {'Key': 'xgboost-as-a-built-in-algo/output/sagemaker-xgboost-2024-09-04-21-48-47-818/debug-output/collections/000000000/worker_0_collections.json'},\n",
       "   {'Key': 'xgboost-as-a-built-in-algo/output/sagemaker-xgboost-2024-09-04-21-48-47-818/profiler-output/system/training_job_end.ts'},\n",
       "   {'Key': 'xgboost-as-a-built-in-algo/output/sagemaker-xgboost-2024-09-06-20-20-04-693/debug-output/index/000000000/000000000000_worker_0.json'},\n",
       "   {'Key': 'xgboost-as-a-built-in-algo/output/sagemaker-xgboost-2024-09-04-20-45-19-513/profiler-output/system/training_job_end.ts'},\n",
       "   {'Key': 'xgboost-as-a-built-in-algo/output/sagemaker-xgboost-2024-09-04-21-45-59-551/debug-output/claim.smd'},\n",
       "   {'Key': 'xgboost-as-a-built-in-algo/output/sagemaker-xgboost-2024-09-04-20-38-45-152/profiler-output/system/incremental/2024090420/1725482520.algo-1.json'},\n",
       "   {'Key': 'xgboost-as-a-built-in-algo/output/sagemaker-xgboost-2024-09-04-21-48-47-818/debug-output/events/000000000000/000000000000_worker_0.tfevents'},\n",
       "   {'Key': 'xgboost-as-a-built-in-algo/output/sagemaker-xgboost-2024-09-06-20-20-04-693/debug-output/events/000000000040/000000000040_worker_0.tfevents'},\n",
       "   {'Key': 'xgboost-as-a-built-in-algo/output/sagemaker-xgboost-2024-09-04-21-24-37-643/profiler-output/framework/training_job_end.ts'},\n",
       "   {'Key': 'xgboost-as-a-built-in-algo/output/sagemaker-xgboost-2024-09-04-21-45-59-551/debug-output/index/000000000/000000000010_worker_0.json'},\n",
       "   {'Key': 'xgboost-as-a-built-in-algo/output/sagemaker-xgboost-2024-09-04-21-48-47-818/debug-output/index/000000000/000000000010_worker_0.json'},\n",
       "   {'Key': 'xgboost-as-a-built-in-algo/output/sagemaker-xgboost-2024-09-06-20-20-04-693/debug-output/training_job_end.ts'},\n",
       "   {'Key': 'xgboost-as-a-built-in-algo/output/sagemaker-xgboost-2024-09-04-21-48-47-818/debug-output/events/000000000040/000000000040_worker_0.tfevents'}]}]"
      ]
     },
     "execution_count": 193,
     "metadata": {},
     "output_type": "execute_result"
    }
   ],
   "source": [
    "bucket_to_delete = boto3.resource('s3'). Bucket (bucket_name)\n",
    "bucket_to_delete.objects.all().delete()"
   ]
  },
  {
   "cell_type": "code",
   "execution_count": null,
   "id": "582ea395",
   "metadata": {},
   "outputs": [],
   "source": []
  }
 ],
 "metadata": {
  "kernelspec": {
   "display_name": "conda_python3",
   "language": "python",
   "name": "conda_python3"
  },
  "language_info": {
   "codemirror_mode": {
    "name": "ipython",
    "version": 3
   },
   "file_extension": ".py",
   "mimetype": "text/x-python",
   "name": "python",
   "nbconvert_exporter": "python",
   "pygments_lexer": "ipython3",
   "version": "3.10.14"
  }
 },
 "nbformat": 4,
 "nbformat_minor": 5
}
